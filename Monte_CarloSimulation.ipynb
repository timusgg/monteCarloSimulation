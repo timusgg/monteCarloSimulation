{
  "nbformat": 4,
  "nbformat_minor": 0,
  "metadata": {
    "colab": {
      "provenance": []
    },
    "kernelspec": {
      "name": "python3",
      "display_name": "Python 3"
    },
    "language_info": {
      "name": "python"
    }
  },
  "cells": [
    {
      "cell_type": "code",
      "execution_count": null,
      "metadata": {
        "id": "utMN5V5K3Fjj"
      },
      "outputs": [],
      "source": [
        "import random\n",
        "import itertools\n",
        "import pandas as pd\n",
        "import matplotlib.pyplot as plt\n"
      ]
    },
    {
      "cell_type": "code",
      "source": [
        "def BankSimulation(CustomerPerHour, numOfCustomers, ServiceTime):\n",
        "    # Dictionary to store all the values of ArrivalTime,\n",
        "    # Time when service started, Time when service ended, waiting time for each customer arriving in the bank\n",
        "    d = {'interArrivalTime' : [0]*(numOfCustomers + 1), 'ArrivalTime' : [0]*(numOfCustomers + 1), 'ServiceStartTime': [0]*(numOfCustomers + 1), 'ServiceEndTime' : [0]*(numOfCustomers + 1), 'WaitingTime' : [0]*(numOfCustomers + 1)}\n",
        "\n",
        "    for i in range(1, numOfCustomers + 1):\n",
        "        # Since service time is given in minutes, we will divide CustomerPerHour by 60,\n",
        "        # the function below returns random number as per the exponential distribution for the given lambda i.e, arrival-rate\n",
        "        d['interArrivalTime'][i] = random.expovariate(CustomerPerHour/60)\n",
        "\n",
        "        # then we keep adding the inter-arrival time so that we can keep the record of arrival time for each customer\n",
        "        # it will help us in calculating waiting time\n",
        "        d['ArrivalTime'] = list(itertools.accumulate(d['interArrivalTime']))\n",
        "\n",
        "        # Here we are storing the time when the counter starts serving the customer request,\n",
        "        # it is the maximum of arrival time vs the ending time of the service,\n",
        "        # the logic behind this is that the if the inter-arrival between two customer is large,\n",
        "        # then the counter will be idle and the next request in the system can be fulfilled without waiting\n",
        "        d['ServiceStartTime'][i] = max(d['ArrivalTime'][i], d['ServiceEndTime'][i-1])\n",
        "\n",
        "        #the ending time of the service is starting time of the service plus the constant service time which,\n",
        "        #is required to serve a customer request\n",
        "        d['ServiceEndTime'][i] = d['ServiceStartTime'][i] + ServiceTime\n",
        "\n",
        "        #waiting time is calculated by subtracting the arrival time from the service end time\n",
        "        d['WaitingTime'][i] = d['ServiceStartTime'][i] - d['ArrivalTime'][i]\n",
        "\n",
        "    table = pd.DataFrame(data=d)\n",
        "    table.drop(0, axis=0, inplace=True)\n",
        "\n",
        "    #table.to_excel('Table.xlsx')\n",
        "\n",
        "    # Calculating the average waiting time by calculating the mean of waiting time column\n",
        "    AverageWaitTime = table['WaitingTime'].mean()\n",
        "\n",
        "    #print(table, AverageWaitTime)\n",
        "    return AverageWaitTime\n"
      ],
      "metadata": {
        "id": "5SAIGOTN3MNr"
      },
      "execution_count": null,
      "outputs": []
    },
    {
      "cell_type": "code",
      "source": [
        "CustomerPH = 20 # Customers coming to the bank per hour\n",
        "numberCustomers = 20 # number of customers per iteration\n",
        "ServTime = 5 #in minutes\n",
        "\n",
        "def numberOfSimulations(num):\n",
        "    AverageList = [] # List to save averages of all the iterations\n",
        "    for _ in range(num):\n",
        "        AverageList.append(BankSimulation(CustomerPH, numberCustomers, ServTime))\n",
        "\n",
        "\n",
        "    if len(AverageList) == 0:\n",
        "        return 0\n",
        "\n",
        "    AverageWaitingTime = sum(AverageList)/len(AverageList)\n",
        "    return AverageWaitingTime\n"
      ],
      "metadata": {
        "id": "8s95HiIO3ZOI"
      },
      "execution_count": null,
      "outputs": []
    },
    {
      "cell_type": "code",
      "source": [
        "def plot_graph():\n",
        "    average = []\n",
        "    simulations = []\n",
        "\n",
        "    for i in range(0, 1000, 100):\n",
        "        average.append(numberOfSimulations(i))\n",
        "        simulations.append(i)\n",
        "\n",
        "    for i in range(1000, 11000, 1000):\n",
        "        average.append(numberOfSimulations(i))\n",
        "        simulations.append(i)\n",
        "\n",
        "    '''\n",
        "    for i in range(10000, 100000, 10000):\n",
        "        average.append(numberOfSimulations(i))\n",
        "        simulations.append(i)\n",
        "    '''\n",
        "\n",
        "    plt.plot(simulations, average)\n",
        "\n",
        "    plt.xlabel('Simulations')\n",
        "    plt.ylabel('Average Waiting Time (in minutes)')\n",
        "\n",
        "    plt.title('Simulation Results')\n",
        "\n",
        "    plt.show()\n",
        "\n",
        "plot_graph()\n",
        "\n"
      ],
      "metadata": {
        "colab": {
          "base_uri": "https://localhost:8080/",
          "height": 365
        },
        "id": "_Dm2xRK13TFl",
        "outputId": "3e723881-01a7-40b2-cdcc-8df9bedd3f8c"
      },
      "execution_count": null,
      "outputs": [
        {
          "output_type": "error",
          "ename": "NameError",
          "evalue": "ignored",
          "traceback": [
            "\u001b[0;31m---------------------------------------------------------------------------\u001b[0m",
            "\u001b[0;31mNameError\u001b[0m                                 Traceback (most recent call last)",
            "\u001b[0;32m<ipython-input-4-32c0748f6bf7>\u001b[0m in \u001b[0;36m<cell line: 28>\u001b[0;34m()\u001b[0m\n\u001b[1;32m     26\u001b[0m     \u001b[0mplt\u001b[0m\u001b[0;34m.\u001b[0m\u001b[0mshow\u001b[0m\u001b[0;34m(\u001b[0m\u001b[0;34m)\u001b[0m\u001b[0;34m\u001b[0m\u001b[0;34m\u001b[0m\u001b[0m\n\u001b[1;32m     27\u001b[0m \u001b[0;34m\u001b[0m\u001b[0m\n\u001b[0;32m---> 28\u001b[0;31m \u001b[0mplot_graph\u001b[0m\u001b[0;34m(\u001b[0m\u001b[0;34m)\u001b[0m\u001b[0;34m\u001b[0m\u001b[0;34m\u001b[0m\u001b[0m\n\u001b[0m\u001b[1;32m     29\u001b[0m \u001b[0;34m\u001b[0m\u001b[0m\n",
            "\u001b[0;32m<ipython-input-4-32c0748f6bf7>\u001b[0m in \u001b[0;36mplot_graph\u001b[0;34m()\u001b[0m\n\u001b[1;32m      4\u001b[0m \u001b[0;34m\u001b[0m\u001b[0m\n\u001b[1;32m      5\u001b[0m     \u001b[0;32mfor\u001b[0m \u001b[0mi\u001b[0m \u001b[0;32min\u001b[0m \u001b[0mrange\u001b[0m\u001b[0;34m(\u001b[0m\u001b[0;36m0\u001b[0m\u001b[0;34m,\u001b[0m \u001b[0;36m1000\u001b[0m\u001b[0;34m,\u001b[0m \u001b[0;36m100\u001b[0m\u001b[0;34m)\u001b[0m\u001b[0;34m:\u001b[0m\u001b[0;34m\u001b[0m\u001b[0;34m\u001b[0m\u001b[0m\n\u001b[0;32m----> 6\u001b[0;31m         \u001b[0maverage\u001b[0m\u001b[0;34m.\u001b[0m\u001b[0mappend\u001b[0m\u001b[0;34m(\u001b[0m\u001b[0mnumberOfSimulations\u001b[0m\u001b[0;34m(\u001b[0m\u001b[0mi\u001b[0m\u001b[0;34m)\u001b[0m\u001b[0;34m)\u001b[0m\u001b[0;34m\u001b[0m\u001b[0;34m\u001b[0m\u001b[0m\n\u001b[0m\u001b[1;32m      7\u001b[0m         \u001b[0msimulations\u001b[0m\u001b[0;34m.\u001b[0m\u001b[0mappend\u001b[0m\u001b[0;34m(\u001b[0m\u001b[0mi\u001b[0m\u001b[0;34m)\u001b[0m\u001b[0;34m\u001b[0m\u001b[0;34m\u001b[0m\u001b[0m\n\u001b[1;32m      8\u001b[0m \u001b[0;34m\u001b[0m\u001b[0m\n",
            "\u001b[0;32m<ipython-input-2-e7dfd9642802>\u001b[0m in \u001b[0;36mnumberOfSimulations\u001b[0;34m(num)\u001b[0m\n\u001b[1;32m      6\u001b[0m     \u001b[0mAverageList\u001b[0m \u001b[0;34m=\u001b[0m \u001b[0;34m[\u001b[0m\u001b[0;34m]\u001b[0m \u001b[0;31m# List to save averages of all the iterations\u001b[0m\u001b[0;34m\u001b[0m\u001b[0;34m\u001b[0m\u001b[0m\n\u001b[1;32m      7\u001b[0m     \u001b[0;32mfor\u001b[0m \u001b[0m_\u001b[0m \u001b[0;32min\u001b[0m \u001b[0mrange\u001b[0m\u001b[0;34m(\u001b[0m\u001b[0mnum\u001b[0m\u001b[0;34m)\u001b[0m\u001b[0;34m:\u001b[0m\u001b[0;34m\u001b[0m\u001b[0;34m\u001b[0m\u001b[0m\n\u001b[0;32m----> 8\u001b[0;31m         \u001b[0mAverageList\u001b[0m\u001b[0;34m.\u001b[0m\u001b[0mappend\u001b[0m\u001b[0;34m(\u001b[0m\u001b[0mBankSimulation\u001b[0m\u001b[0;34m(\u001b[0m\u001b[0mCustomerPH\u001b[0m\u001b[0;34m,\u001b[0m \u001b[0mnumberCustomers\u001b[0m\u001b[0;34m,\u001b[0m \u001b[0mServTime\u001b[0m\u001b[0;34m)\u001b[0m\u001b[0;34m)\u001b[0m\u001b[0;34m\u001b[0m\u001b[0;34m\u001b[0m\u001b[0m\n\u001b[0m\u001b[1;32m      9\u001b[0m \u001b[0;34m\u001b[0m\u001b[0m\n\u001b[1;32m     10\u001b[0m \u001b[0;34m\u001b[0m\u001b[0m\n",
            "\u001b[0;32m<ipython-input-1-f72443c5a60f>\u001b[0m in \u001b[0;36mBankSimulation\u001b[0;34m(CustomerPerHour, numOfCustomers, ServiceTime)\u001b[0m\n\u001b[1;32m      7\u001b[0m         \u001b[0;31m# Since service time is given in minutes, we will divide CustomerPerHour by 60,\u001b[0m\u001b[0;34m\u001b[0m\u001b[0;34m\u001b[0m\u001b[0m\n\u001b[1;32m      8\u001b[0m         \u001b[0;31m# the function below returns random number as per the exponential distribution for the given lambda i.e, arrival-rate\u001b[0m\u001b[0;34m\u001b[0m\u001b[0;34m\u001b[0m\u001b[0m\n\u001b[0;32m----> 9\u001b[0;31m         \u001b[0md\u001b[0m\u001b[0;34m[\u001b[0m\u001b[0;34m'interArrivalTime'\u001b[0m\u001b[0;34m]\u001b[0m\u001b[0;34m[\u001b[0m\u001b[0mi\u001b[0m\u001b[0;34m]\u001b[0m \u001b[0;34m=\u001b[0m \u001b[0mrandom\u001b[0m\u001b[0;34m.\u001b[0m\u001b[0mexpovariate\u001b[0m\u001b[0;34m(\u001b[0m\u001b[0mCustomerPerHour\u001b[0m\u001b[0;34m/\u001b[0m\u001b[0;36m60\u001b[0m\u001b[0;34m)\u001b[0m\u001b[0;34m\u001b[0m\u001b[0;34m\u001b[0m\u001b[0m\n\u001b[0m\u001b[1;32m     10\u001b[0m \u001b[0;34m\u001b[0m\u001b[0m\n\u001b[1;32m     11\u001b[0m         \u001b[0;31m# then we keep adding the inter-arrival time so that we can keep the record of arrival time for each customer\u001b[0m\u001b[0;34m\u001b[0m\u001b[0;34m\u001b[0m\u001b[0m\n",
            "\u001b[0;31mNameError\u001b[0m: name 'random' is not defined"
          ]
        }
      ]
    }
  ]
}